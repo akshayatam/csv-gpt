{
 "cells": [
  {
   "cell_type": "code",
   "execution_count": null,
   "id": "feced159",
   "metadata": {},
   "outputs": [],
   "source": [
    "# Task 1: Load the libraries \n",
    "\n",
    "import os \n",
    "import io \n",
    "import warnings \n",
    "import pandas as pd \n",
    "import panel as pn \n",
    "import plotly.express as px \n",
    "from dotenv import load dot_env \n",
    "from langchain.llms import OpenAI\n",
    "from langchain_experimental.agents.agent_toolkits.csv.base import create_csv_agent "
   ]
  },
  {
   "cell_type": "code",
   "execution_count": null,
   "id": "1c556fad",
   "metadata": {},
   "outputs": [],
   "source": [
    "# Run this cell after setting up the '.env' file\n",
    "warnings.filterwarnings('ignore')\n",
    "pn.extension('plotly', 'tabulator', comms=\"vscode\")\n",
    "load_dotenv()\n",
    "print(os.environ['OPENAI_API_KEY'])"
   ]
  },
  {
   "cell_type": "code",
   "execution_count": null,
   "id": "7927c8f7",
   "metadata": {},
   "outputs": [],
   "source": [
    "# Task 2: The Initialization Method \n",
    "\n",
    "# Specify the path to the CSV file\n",
    "file_name = 'data.csv'"
   ]
  },
  {
   "cell_type": "code",
   "execution_count": null,
   "id": "af919bcf",
   "metadata": {},
   "outputs": [],
   "source": [
    "# Read the CSV file into a DataFrame and drop the 'id' column\n",
    "data = pd.read_csv(file_name).drop(columns=['id'])"
   ]
  },
  {
   "cell_type": "code",
   "execution_count": null,
   "id": "de9fda0a",
   "metadata": {},
   "outputs": [],
   "source": [
    "# Create a Plotly pane for interactive plotting \n",
    "plot_pane = pn.pane.Plotly(sizing_mode=\"stretch_width\")"
   ]
  },
  {
   "cell_type": "code",
   "execution_count": null,
   "id": "773954b6",
   "metadata": {},
   "outputs": [],
   "source": [
    "# Initialize a FileInput widget for uploading files\n",
    "file_input = pn.widgets.FileInput()"
   ]
  },
  {
   "cell_type": "code",
   "execution_count": null,
   "id": "7ae3a6e9",
   "metadata": {},
   "outputs": [],
   "source": [
    "# Initialize a TextInput widget for user questions\n",
    "text_input = pn.widgets.TextInput(\n",
    "    name='Question',\n",
    "    placeholder='Ask a question from the CSV',\n",
    "    sizing_mode='scale_width'\n",
    ")"
   ]
  },
  {
   "cell_type": "code",
   "execution_count": null,
   "id": "54953dc9",
   "metadata": {},
   "outputs": [],
   "source": [
    "# Initialize a Button widget labeled 'Ask' for submitting questions\n",
    "ask_button = pn.widgets.Button(\n",
    "    name=\"Ask\",\n",
    "    button_type=\"primary\",\n",
    "    height=60\n",
    ")"
   ]
  },
  {
   "cell_type": "code",
   "execution_count": null,
   "id": "9635b932",
   "metadata": {},
   "outputs": [],
   "source": [
    "# Initialize a Button widget labeled 'Load' for loading data\n",
    "load_button = pn.widgets.Button(\n",
    "    name=\"Load\",\n",
    "    button_type=\"primary\"\n",
    ")"
   ]
  },
  {
   "cell_type": "code",
   "execution_count": null,
   "id": "920fc034",
   "metadata": {},
   "outputs": [],
   "source": [
    "# Initialize a Button widget labeled 'Plot' for generating plots\n",
    "plot_button = pn.widgets.Button(\n",
    "    name=\"Plot\",\n",
    "    button_type=\"primary\"\n",
    ")"
   ]
  },
  {
   "cell_type": "code",
   "execution_count": null,
   "id": "a852b13e",
   "metadata": {},
   "outputs": [],
   "source": [
    "# Initialize a ChatBox widget to display messages\n",
    "chat_box = pn.chat.ChatInterface(\n",
    "    callback=None, \n",
    "    user=\"User\", \n",
    "    avatar=\"U\", \n",
    "    callback_user=\"Assistant\"\n",
    ")"
   ]
  },
  {
   "cell_type": "code",
   "execution_count": null,
   "id": "706ca292",
   "metadata": {},
   "outputs": [],
   "source": [
    "# Task 3: Load the Page Components \n",
    "\n",
    "def load_page(data, file_name):\n",
    "    # Identify the target variable (assumed to be the last column)\n",
    "    target = data.columns[-1]\n",
    "\n",
    "    # Dropdown for selecting the Y-axis variable, defaulting to the first numeric column\n",
    "    yaxis = pn.widgets.Select(\n",
    "        name='Y axis',\n",
    "        options=list(data.columns),\n",
    "        value=list(data._get_numeric_data().columns)[0],\n",
    "        disabled_options=list(set(data.columns) - set(data._get_numeric_data().columns)),\n",
    "    )\n",
    "\n",
    "    # Dropdown for selecting the X-axis variable, defaulting to the second numeric column\n",
    "    xaxis = pn.widgets.Select(\n",
    "        name='X axis',\n",
    "        options=list(data.columns),\n",
    "        value=list(data._get_numeric_data().columns)[1],\n",
    "        disabled_options=list(set(data.columns) - set(data._get_numeric_data().columns)),\n",
    "    )\n",
    "\n",
    "    # Create an initial scatter plot with the selected X and Y axes, colored by the target variable\n",
    "    plot = px.scatter(\n",
    "        data,\n",
    "        x=list(data._get_numeric_data().columns)[0],\n",
    "        y=list(data._get_numeric_data().columns)[1],\n",
    "        color=target\n",
    "    )\n",
    "\n",
    "    # Create a table widget to display the DataFrame\n",
    "    table = pn.widgets.Tabulator(data)\n",
    "\n",
    "    # Initialize a CSV agent using LangChain's create_csv_agent function\n",
    "    agent = create_csv_agent(\n",
    "        OpenAI(model=\"gpt-3.5-turbo-instruct\", temperature=0),\n",
    "        file_name,\n",
    "        verbose=True,\n",
    "        return_intermediate_steps=True, \n",
    "        allow_dangerous_code=True\n",
    "    )\n",
    "\n",
    "    return target, yaxis, xaxis, plot, table, agent"
   ]
  },
  {
   "cell_type": "code",
   "execution_count": null,
   "id": "544688a1",
   "metadata": {},
   "outputs": [],
   "source": [
    "# Load the page components\n",
    "target, yaxis, xaxis, plot_pane.object, table, agent = load_page(data, file_name)"
   ]
  },
  {
   "cell_type": "code",
   "execution_count": null,
   "id": "d1f2fe6d",
   "metadata": {},
   "outputs": [],
   "source": [
    "# Display the plot pane\n",
    "plot_pane"
   ]
  },
  {
   "cell_type": "code",
   "execution_count": null,
   "id": "7e04d696",
   "metadata": {},
   "outputs": [],
   "source": [
    "# Task 4: Construct the Web Application's Frontend \n",
    "\n",
    "# Create a FastListTemplate for the dashboard layout\n",
    "template = pn.template.FastListTemplate(\n",
    "    title='CSV-GPT',\n",
    "    sidebar=[\n",
    "        pn.pane.Markdown(\"# Ask your Data\"),\n",
    "        pn.pane.Markdown(\"## Upload your CSV File\"),\n",
    "        file_input,\n",
    "        load_button,\n",
    "        yaxis,\n",
    "        xaxis,\n",
    "        plot_button,\n",
    "        plot_pane,\n",
    "    ],\n",
    "    main=[\n",
    "        pn.Column(\n",
    "            pn.pane.Markdown(\"## Data Preview\"),\n",
    "            table,\n",
    "            height=300,\n",
    "            sizing_mode=\"stretch_width\",\n",
    "            scroll=True\n",
    "        ),\n",
    "        pn.Column(\n",
    "            pn.pane.Markdown(\"## Assistant Chat\"),\n",
    "            chat_box,\n",
    "            height=500,\n",
    "            scroll=True,\n",
    "            sizing_mode=\"stretch_width\"\n",
    "        ),\n",
    "        pn.Row(\n",
    "            pn.Column(\n",
    "                pn.pane.Markdown(\"## Ask a Question\"),\n",
    "                text_input,\n",
    "                ask_button\n",
    "            ),\n",
    "            width=600\n",
    "        )\n",
    "        \n",
    "    ],\n",
    "    sidebar_width=420,\n",
    "    accent_base_color=\"#88d8b0\",\n",
    "    header_background=\"#88d8b0\"\n",
    ")"
   ]
  },
  {
   "cell_type": "code",
   "execution_count": null,
   "id": "64e1e110",
   "metadata": {},
   "outputs": [],
   "source": [
    "# Display the template in a web browser\n",
    "# Note: Comment out this line after running the web app \n",
    "url = \"localhost:5006\"\n",
    "template.show(open=False, address='0.0.0.0', port=5006, websocket_origin=url)"
   ]
  },
  {
   "cell_type": "code",
   "execution_count": null,
   "id": "e1f77e97",
   "metadata": {},
   "outputs": [],
   "source": [
    "def reloader(event):\n",
    "    # Create a new scatter plot using Plotly Express with selected x and y axes\n",
    "    plot_pane = px.scatter(data, x=xaxis.value, y=yaxis.value, color=target)\n",
    "    \n",
    "    # Update the plot in the sidebar with the new plot\n",
    "    template.sidebar[6][0].object = plot_pane\n",
    "\n",
    "# Attach the reloader function to the plot_button's on_click event\n",
    "plot_button.on_click(reloader)"
   ]
  },
  {
   "cell_type": "code",
   "execution_count": null,
   "id": "862be8c5",
   "metadata": {},
   "outputs": [],
   "source": [
    "def parse_file_input(event):\n",
    "    global data, file_name\n",
    "\n",
    "    # Retrieve the uploaded file’s content from the FileInput widget\n",
    "    value = file_input.value\n",
    "    # Convert the byte content into a BytesIO object\n",
    "    bytes_io = io.BytesIO(value)\n",
    "    # Read the CSV data into a pandas DataFrame\n",
    "    data = pd.read_csv(bytes_io)\n",
    "    # Get the filename of the uploaded file\n",
    "    file_name = file_input.filename\n",
    "    # Save the DataFrame to a CSV file with the original filename\n",
    "    data.to_csv(file_name, index=False)\n",
    "\n",
    "    # Declare global variables for UI components and agent\n",
    "    global target, yaxis, xaxis, plot, table, agent\n",
    "\n",
    "    # Initialize or update the UI components and agent based on the new data\n",
    "    target, yaxis, xaxis, plot, table, agent = load_page(data, file_name)\n",
    "\n",
    "    # Update the main template with the new table\n",
    "    template.main[0][0] = table\n",
    "    # Update the sidebar with the new y-axis selector\n",
    "    template.sidebar[3][0] = yaxis\n",
    "    # Update the sidebar with the new x-axis selector\n",
    "    template.sidebar[4][0] = xaxis\n",
    "    # Update the sidebar plot pane with the new plot\n",
    "    template.sidebar[6][0].object = plot"
   ]
  },
  {
   "cell_type": "code",
   "execution_count": null,
   "id": "79b97100",
   "metadata": {},
   "outputs": [],
   "source": [
    "# Attach the parse_file_input function to the load_button‘s on_click event\n",
    "load_button.on_click(parse_file_input)"
   ]
  },
  {
   "cell_type": "code",
   "execution_count": null,
   "id": "f1588b06",
   "metadata": {},
   "outputs": [],
   "source": [
    "def ask(event):\n",
    "    # Retrieve the user's query from the text input widget\n",
    "    query = text_input.value\n",
    "    # Append the user's query to the chat box\n",
    "    chat_box.append({\"User\": query})\n",
    "    # Send the query to the agent and get the response\n",
    "    response = agent({\"input\": query})\n",
    "    # Append the agent's thought process to the chat box\n",
    "    chat_box.append({\"Thought Process\": [x[0].log for x in response[\"intermediate_steps\"]]})\n",
    "    # Append the agent's final response to the chat box\n",
    "    chat_box.append({\"Assistant\": response['output']})"
   ]
  },
  {
   "cell_type": "code",
   "execution_count": null,
   "id": "827adb3d",
   "metadata": {},
   "outputs": [],
   "source": [
    "# Bind the 'ask' function to the 'on_click' event of the ask button\n",
    "ask_button.on_click(ask)"
   ]
  },
  {
   "cell_type": "code",
   "execution_count": null,
   "id": "40630fb4",
   "metadata": {},
   "outputs": [],
   "source": []
  }
 ],
 "metadata": {
  "kernelspec": {
   "display_name": ".csv-env",
   "language": "python",
   "name": "python3"
  },
  "language_info": {
   "codemirror_mode": {
    "name": "ipython",
    "version": 3
   },
   "file_extension": ".py",
   "mimetype": "text/x-python",
   "name": "python",
   "nbconvert_exporter": "python",
   "pygments_lexer": "ipython3",
   "version": "3.12.9"
  }
 },
 "nbformat": 4,
 "nbformat_minor": 5
}
